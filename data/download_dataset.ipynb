{
 "cells": [
  {
   "cell_type": "code",
   "execution_count": null,
   "metadata": {},
   "outputs": [],
   "source": [
    "%pip install kaggle"
   ]
  },
  {
   "cell_type": "code",
   "execution_count": 2,
   "metadata": {},
   "outputs": [
    {
     "name": "stdout",
     "output_type": "stream",
     "text": [
      "Kaggle API 1.5.16\n"
     ]
    }
   ],
   "source": [
    "!kaggle --version"
   ]
  },
  {
   "cell_type": "code",
   "execution_count": 1,
   "metadata": {},
   "outputs": [
    {
     "data": {
      "text/plain": [
       "True"
      ]
     },
     "execution_count": 1,
     "metadata": {},
     "output_type": "execute_result"
    }
   ],
   "source": [
    "from dotenv import load_dotenv\n",
    "\n",
    "load_dotenv()"
   ]
  },
  {
   "cell_type": "code",
   "execution_count": 4,
   "metadata": {},
   "outputs": [],
   "source": [
    "import os"
   ]
  },
  {
   "cell_type": "code",
   "execution_count": 5,
   "metadata": {},
   "outputs": [],
   "source": [
    "os.environ['KAGGLE_CONFIG_DIR'] = os.getenv(\"KAGGLE_CONFIG_DIR\")"
   ]
  },
  {
   "cell_type": "code",
   "execution_count": 6,
   "metadata": {},
   "outputs": [
    {
     "name": "stdout",
     "output_type": "stream",
     "text": [
      "ref                          title                                         size  lastUpdated          downloadCount  voteCount  usabilityRating  \n",
      "---------------------------  --------------------------------------------  ----  -------------------  -------------  ---------  ---------------  \n",
      "olistbr/brazilian-ecommerce  Brazilian E-Commerce Public Dataset by Olist  43MB  2021-10-01 19:08:27         216815       2952  1.0              \n"
     ]
    }
   ],
   "source": [
    "!kaggle datasets list -s ['olistbr/brazilian-ecommerce']"
   ]
  },
  {
   "cell_type": "code",
   "execution_count": 9,
   "metadata": {},
   "outputs": [
    {
     "name": "stdout",
     "output_type": "stream",
     "text": [
      "Downloading brazilian-ecommerce.zip to raw_data\n",
      "100%|██████████████████████████████████████| 42.6M/42.6M [00:09<00:00, 5.23MB/s]\n",
      "100%|██████████████████████████████████████| 42.6M/42.6M [00:09<00:00, 4.83MB/s]\n"
     ]
    }
   ],
   "source": [
    "!kaggle datasets download -d olistbr/brazilian-ecommerce -p raw_data"
   ]
  },
  {
   "cell_type": "code",
   "execution_count": 13,
   "metadata": {},
   "outputs": [
    {
     "name": "stdout",
     "output_type": "stream",
     "text": [
      "Archive:  raw_data/brazilian-ecommerce.zip\n",
      "  inflating: data_csv/olist_customers_dataset.csv  "
     ]
    },
    {
     "name": "stdout",
     "output_type": "stream",
     "text": [
      "\n",
      "  inflating: data_csv/olist_geolocation_dataset.csv  \n",
      "  inflating: data_csv/olist_order_items_dataset.csv  \n",
      "  inflating: data_csv/olist_order_payments_dataset.csv  \n",
      "  inflating: data_csv/olist_order_reviews_dataset.csv  \n",
      "  inflating: data_csv/olist_orders_dataset.csv  \n",
      "  inflating: data_csv/olist_products_dataset.csv  \n",
      "  inflating: data_csv/olist_sellers_dataset.csv  \n",
      "  inflating: data_csv/product_category_name_translation.csv  \n"
     ]
    }
   ],
   "source": [
    "!unzip raw_data/brazilian-ecommerce.zip -d data_csv"
   ]
  }
 ],
 "metadata": {
  "kernelspec": {
   "display_name": "Python 3",
   "language": "python",
   "name": "python3"
  },
  "language_info": {
   "codemirror_mode": {
    "name": "ipython",
    "version": 3
   },
   "file_extension": ".py",
   "mimetype": "text/x-python",
   "name": "python",
   "nbconvert_exporter": "python",
   "pygments_lexer": "ipython3",
   "version": "3.10.12"
  }
 },
 "nbformat": 4,
 "nbformat_minor": 2
}
