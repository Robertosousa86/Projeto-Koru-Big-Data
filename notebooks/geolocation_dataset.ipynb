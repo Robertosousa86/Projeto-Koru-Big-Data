{
 "cells": [
  {
   "cell_type": "code",
   "execution_count": 1,
   "metadata": {},
   "outputs": [
    {
     "name": "stdout",
     "output_type": "stream",
     "text": [
      "Defaulting to user installation because normal site-packages is not writeable\n",
      "Requirement already satisfied: pandas in /home/sudoverso/.local/lib/python3.10/site-packages (2.1.3)\n",
      "Requirement already satisfied: tzdata>=2022.1 in /home/sudoverso/.local/lib/python3.10/site-packages (from pandas) (2023.3)\n",
      "Requirement already satisfied: python-dateutil>=2.8.2 in /home/sudoverso/.local/lib/python3.10/site-packages (from pandas) (2.8.2)\n",
      "Requirement already satisfied: pytz>=2020.1 in /usr/lib/python3/dist-packages (from pandas) (2022.1)\n",
      "Requirement already satisfied: numpy<2,>=1.22.4 in /home/sudoverso/.local/lib/python3.10/site-packages (from pandas) (1.26.2)\n",
      "Requirement already satisfied: six>=1.5 in /usr/lib/python3/dist-packages (from python-dateutil>=2.8.2->pandas) (1.16.0)\n",
      "Note: you may need to restart the kernel to use updated packages.\n"
     ]
    }
   ],
   "source": [
    "%pip install pandas"
   ]
  },
  {
   "cell_type": "code",
   "execution_count": 1,
   "metadata": {},
   "outputs": [],
   "source": [
    "import pandas as pd"
   ]
  },
  {
   "cell_type": "markdown",
   "metadata": {},
   "source": [
    "1. Padronizando o Dataframe: Limpeza e alteração de dados incorretos."
   ]
  },
  {
   "cell_type": "code",
   "execution_count": 2,
   "metadata": {},
   "outputs": [
    {
     "data": {
      "text/html": [
       "<div>\n",
       "<style scoped>\n",
       "    .dataframe tbody tr th:only-of-type {\n",
       "        vertical-align: middle;\n",
       "    }\n",
       "\n",
       "    .dataframe tbody tr th {\n",
       "        vertical-align: top;\n",
       "    }\n",
       "\n",
       "    .dataframe thead th {\n",
       "        text-align: right;\n",
       "    }\n",
       "</style>\n",
       "<table border=\"1\" class=\"dataframe\">\n",
       "  <thead>\n",
       "    <tr style=\"text-align: right;\">\n",
       "      <th></th>\n",
       "      <th>geolocation_zip_code_prefix</th>\n",
       "      <th>geolocation_lat</th>\n",
       "      <th>geolocation_lng</th>\n",
       "      <th>geolocation_city</th>\n",
       "      <th>geolocation_state</th>\n",
       "    </tr>\n",
       "  </thead>\n",
       "  <tbody>\n",
       "    <tr>\n",
       "      <th>0</th>\n",
       "      <td>1037</td>\n",
       "      <td>-23.545621</td>\n",
       "      <td>-46.639292</td>\n",
       "      <td>sao paulo</td>\n",
       "      <td>SP</td>\n",
       "    </tr>\n",
       "    <tr>\n",
       "      <th>1</th>\n",
       "      <td>1046</td>\n",
       "      <td>-23.546081</td>\n",
       "      <td>-46.644820</td>\n",
       "      <td>sao paulo</td>\n",
       "      <td>SP</td>\n",
       "    </tr>\n",
       "    <tr>\n",
       "      <th>2</th>\n",
       "      <td>1046</td>\n",
       "      <td>-23.546129</td>\n",
       "      <td>-46.642951</td>\n",
       "      <td>sao paulo</td>\n",
       "      <td>SP</td>\n",
       "    </tr>\n",
       "    <tr>\n",
       "      <th>3</th>\n",
       "      <td>1041</td>\n",
       "      <td>-23.544392</td>\n",
       "      <td>-46.639499</td>\n",
       "      <td>sao paulo</td>\n",
       "      <td>SP</td>\n",
       "    </tr>\n",
       "    <tr>\n",
       "      <th>4</th>\n",
       "      <td>1035</td>\n",
       "      <td>-23.541578</td>\n",
       "      <td>-46.641607</td>\n",
       "      <td>sao paulo</td>\n",
       "      <td>SP</td>\n",
       "    </tr>\n",
       "    <tr>\n",
       "      <th>...</th>\n",
       "      <td>...</td>\n",
       "      <td>...</td>\n",
       "      <td>...</td>\n",
       "      <td>...</td>\n",
       "      <td>...</td>\n",
       "    </tr>\n",
       "    <tr>\n",
       "      <th>1000158</th>\n",
       "      <td>99950</td>\n",
       "      <td>-28.068639</td>\n",
       "      <td>-52.010705</td>\n",
       "      <td>tapejara</td>\n",
       "      <td>RS</td>\n",
       "    </tr>\n",
       "    <tr>\n",
       "      <th>1000159</th>\n",
       "      <td>99900</td>\n",
       "      <td>-27.877125</td>\n",
       "      <td>-52.224882</td>\n",
       "      <td>getulio vargas</td>\n",
       "      <td>RS</td>\n",
       "    </tr>\n",
       "    <tr>\n",
       "      <th>1000160</th>\n",
       "      <td>99950</td>\n",
       "      <td>-28.071855</td>\n",
       "      <td>-52.014716</td>\n",
       "      <td>tapejara</td>\n",
       "      <td>RS</td>\n",
       "    </tr>\n",
       "    <tr>\n",
       "      <th>1000161</th>\n",
       "      <td>99980</td>\n",
       "      <td>-28.388932</td>\n",
       "      <td>-51.846871</td>\n",
       "      <td>david canabarro</td>\n",
       "      <td>RS</td>\n",
       "    </tr>\n",
       "    <tr>\n",
       "      <th>1000162</th>\n",
       "      <td>99950</td>\n",
       "      <td>-28.070104</td>\n",
       "      <td>-52.018658</td>\n",
       "      <td>tapejara</td>\n",
       "      <td>RS</td>\n",
       "    </tr>\n",
       "  </tbody>\n",
       "</table>\n",
       "<p>1000163 rows × 5 columns</p>\n",
       "</div>"
      ],
      "text/plain": [
       "         geolocation_zip_code_prefix  geolocation_lat  geolocation_lng  \\\n",
       "0                               1037       -23.545621       -46.639292   \n",
       "1                               1046       -23.546081       -46.644820   \n",
       "2                               1046       -23.546129       -46.642951   \n",
       "3                               1041       -23.544392       -46.639499   \n",
       "4                               1035       -23.541578       -46.641607   \n",
       "...                              ...              ...              ...   \n",
       "1000158                        99950       -28.068639       -52.010705   \n",
       "1000159                        99900       -27.877125       -52.224882   \n",
       "1000160                        99950       -28.071855       -52.014716   \n",
       "1000161                        99980       -28.388932       -51.846871   \n",
       "1000162                        99950       -28.070104       -52.018658   \n",
       "\n",
       "        geolocation_city geolocation_state  \n",
       "0              sao paulo                SP  \n",
       "1              sao paulo                SP  \n",
       "2              sao paulo                SP  \n",
       "3              sao paulo                SP  \n",
       "4              sao paulo                SP  \n",
       "...                  ...               ...  \n",
       "1000158         tapejara                RS  \n",
       "1000159   getulio vargas                RS  \n",
       "1000160         tapejara                RS  \n",
       "1000161  david canabarro                RS  \n",
       "1000162         tapejara                RS  \n",
       "\n",
       "[1000163 rows x 5 columns]"
      ]
     },
     "execution_count": 2,
     "metadata": {},
     "output_type": "execute_result"
    }
   ],
   "source": [
    "geolocation = pd.read_csv('../data/data_csv/olist_geolocation_dataset.csv')\n",
    "\n",
    "geolocation"
   ]
  },
  {
   "cell_type": "code",
   "execution_count": 3,
   "metadata": {},
   "outputs": [
    {
     "data": {
      "text/plain": [
       "(1000163, 5)"
      ]
     },
     "execution_count": 3,
     "metadata": {},
     "output_type": "execute_result"
    }
   ],
   "source": [
    "geolocation.shape"
   ]
  },
  {
   "cell_type": "code",
   "execution_count": 4,
   "metadata": {},
   "outputs": [
    {
     "data": {
      "text/html": [
       "<div>\n",
       "<style scoped>\n",
       "    .dataframe tbody tr th:only-of-type {\n",
       "        vertical-align: middle;\n",
       "    }\n",
       "\n",
       "    .dataframe tbody tr th {\n",
       "        vertical-align: top;\n",
       "    }\n",
       "\n",
       "    .dataframe thead th {\n",
       "        text-align: right;\n",
       "    }\n",
       "</style>\n",
       "<table border=\"1\" class=\"dataframe\">\n",
       "  <thead>\n",
       "    <tr style=\"text-align: right;\">\n",
       "      <th></th>\n",
       "      <th>geolocation_zip_code_prefix</th>\n",
       "      <th>geolocation_lat</th>\n",
       "      <th>geolocation_lng</th>\n",
       "      <th>geolocation_city</th>\n",
       "      <th>geolocation_state</th>\n",
       "    </tr>\n",
       "  </thead>\n",
       "  <tbody>\n",
       "    <tr>\n",
       "      <th>0</th>\n",
       "      <td>1037</td>\n",
       "      <td>-23.545621</td>\n",
       "      <td>-46.639292</td>\n",
       "      <td>sao paulo</td>\n",
       "      <td>SP</td>\n",
       "    </tr>\n",
       "    <tr>\n",
       "      <th>1</th>\n",
       "      <td>1046</td>\n",
       "      <td>-23.546081</td>\n",
       "      <td>-46.644820</td>\n",
       "      <td>sao paulo</td>\n",
       "      <td>SP</td>\n",
       "    </tr>\n",
       "    <tr>\n",
       "      <th>2</th>\n",
       "      <td>1046</td>\n",
       "      <td>-23.546129</td>\n",
       "      <td>-46.642951</td>\n",
       "      <td>sao paulo</td>\n",
       "      <td>SP</td>\n",
       "    </tr>\n",
       "    <tr>\n",
       "      <th>3</th>\n",
       "      <td>1041</td>\n",
       "      <td>-23.544392</td>\n",
       "      <td>-46.639499</td>\n",
       "      <td>sao paulo</td>\n",
       "      <td>SP</td>\n",
       "    </tr>\n",
       "    <tr>\n",
       "      <th>4</th>\n",
       "      <td>1035</td>\n",
       "      <td>-23.541578</td>\n",
       "      <td>-46.641607</td>\n",
       "      <td>sao paulo</td>\n",
       "      <td>SP</td>\n",
       "    </tr>\n",
       "    <tr>\n",
       "      <th>5</th>\n",
       "      <td>1012</td>\n",
       "      <td>-23.547762</td>\n",
       "      <td>-46.635361</td>\n",
       "      <td>são paulo</td>\n",
       "      <td>SP</td>\n",
       "    </tr>\n",
       "    <tr>\n",
       "      <th>6</th>\n",
       "      <td>1047</td>\n",
       "      <td>-23.546273</td>\n",
       "      <td>-46.641225</td>\n",
       "      <td>sao paulo</td>\n",
       "      <td>SP</td>\n",
       "    </tr>\n",
       "  </tbody>\n",
       "</table>\n",
       "</div>"
      ],
      "text/plain": [
       "   geolocation_zip_code_prefix  geolocation_lat  geolocation_lng  \\\n",
       "0                         1037       -23.545621       -46.639292   \n",
       "1                         1046       -23.546081       -46.644820   \n",
       "2                         1046       -23.546129       -46.642951   \n",
       "3                         1041       -23.544392       -46.639499   \n",
       "4                         1035       -23.541578       -46.641607   \n",
       "5                         1012       -23.547762       -46.635361   \n",
       "6                         1047       -23.546273       -46.641225   \n",
       "\n",
       "  geolocation_city geolocation_state  \n",
       "0        sao paulo                SP  \n",
       "1        sao paulo                SP  \n",
       "2        sao paulo                SP  \n",
       "3        sao paulo                SP  \n",
       "4        sao paulo                SP  \n",
       "5        são paulo                SP  \n",
       "6        sao paulo                SP  "
      ]
     },
     "execution_count": 4,
     "metadata": {},
     "output_type": "execute_result"
    }
   ],
   "source": [
    "geolocation.head(7)"
   ]
  },
  {
   "cell_type": "markdown",
   "metadata": {},
   "source": [
    "- Duplicatas nas coordenadas geográficas poder ser esperadas porque várias localidades podem ter as mesmas coordenadas.  "
   ]
  },
  {
   "cell_type": "code",
   "execution_count": 5,
   "metadata": {},
   "outputs": [
    {
     "data": {
      "text/plain": [
       "261831"
      ]
     },
     "execution_count": 5,
     "metadata": {},
     "output_type": "execute_result"
    }
   ],
   "source": [
    "geolocation.duplicated().sum()"
   ]
  },
  {
   "cell_type": "code",
   "execution_count": 6,
   "metadata": {},
   "outputs": [
    {
     "data": {
      "text/plain": [
       "geolocation_zip_code_prefix    0\n",
       "geolocation_lat                0\n",
       "geolocation_lng                0\n",
       "geolocation_city               0\n",
       "geolocation_state              0\n",
       "dtype: int64"
      ]
     },
     "execution_count": 6,
     "metadata": {},
     "output_type": "execute_result"
    }
   ],
   "source": [
    "geolocation.isnull().sum()"
   ]
  },
  {
   "cell_type": "code",
   "execution_count": 7,
   "metadata": {},
   "outputs": [
    {
     "data": {
      "text/plain": [
       "geolocation_zip_code_prefix    0\n",
       "geolocation_lat                0\n",
       "geolocation_lng                0\n",
       "geolocation_city               0\n",
       "geolocation_state              0\n",
       "dtype: int64"
      ]
     },
     "execution_count": 7,
     "metadata": {},
     "output_type": "execute_result"
    }
   ],
   "source": [
    "geolocation.isna().sum()"
   ]
  },
  {
   "cell_type": "code",
   "execution_count": 8,
   "metadata": {},
   "outputs": [],
   "source": [
    "from data_clear import DataClear"
   ]
  },
  {
   "cell_type": "code",
   "execution_count": 9,
   "metadata": {},
   "outputs": [],
   "source": [
    "data_clear = DataClear(geolocation, 'geolocation_city', 'geolocation_state')"
   ]
  },
  {
   "cell_type": "markdown",
   "metadata": {},
   "source": [
    "- Lendo a soma de registros na coluna \"geolocation_city\" que contém caracteres especiais e removendo possíveis acentuações."
   ]
  },
  {
   "cell_type": "code",
   "execution_count": 10,
   "metadata": {},
   "outputs": [
    {
     "name": "stdout",
     "output_type": "stream",
     "text": [
      "Total de palavras que atendem ao padrão: 73442\n"
     ]
    }
   ],
   "source": [
    "data_clear.total_accents('geolocation_city')"
   ]
  },
  {
   "cell_type": "code",
   "execution_count": 11,
   "metadata": {},
   "outputs": [
    {
     "name": "stdout",
     "output_type": "stream",
     "text": [
      "Total de palavras que atendem ao padrão: 0\n"
     ]
    }
   ],
   "source": [
    "data_clear.cleaning_accents('geolocation_city')"
   ]
  },
  {
   "cell_type": "markdown",
   "metadata": {},
   "source": [
    "- Contando e modificando nomes de cidades:\n",
    "\\\n",
    "Exitem distritos como o de Monte Gordo, localizado na cidade de Camaçari-BA, que constam como cidades. Para padronizar a base de dados irei modificar o dado e manter apenas com o nome da cidade. Além disse existem nomes de cidades escritas de forma errada como \"saopaulo\", \"guarulhos-sp\" entre outras."
   ]
  },
  {
   "cell_type": "code",
   "execution_count": 13,
   "metadata": {},
   "outputs": [
    {
     "name": "stdout",
     "output_type": "stream",
     "text": [
      "Total de cidades com o nome saopaulo: 2\n",
      "Total de cidades com o nome guarulhos-sp: 1\n",
      "Total de cidades com o nome sp: 3\n",
      "Total de cidades com o nome saPSo paulo: 1\n",
      "Total de cidades com o nome jacare (cabreuva): 2\n"
     ]
    }
   ],
   "source": [
    "saopaulo = 'saopaulo'\n",
    "guarulhos_sp = 'guarulhos-sp'\n",
    "sp = 'sp'\n",
    "saPSo_paulo = 'saPSo paulo'\n",
    "jacare_cabreuva = 'jacare (cabreuva)'\n",
    "state = 'SP'\n",
    "\n",
    "data_clear.count_city_name(saopaulo, state)\n",
    "data_clear.count_city_name(guarulhos_sp, state)\n",
    "data_clear.count_city_name(sp, state)\n",
    "data_clear.count_city_name(saPSo_paulo, state)\n",
    "data_clear.count_city_name(jacare_cabreuva, state)"
   ]
  },
  {
   "cell_type": "code",
   "execution_count": 14,
   "metadata": {},
   "outputs": [
    {
     "name": "stdout",
     "output_type": "stream",
     "text": [
      "Antigo nome registrado: saopaulo. Novo nome registrado: sao paulo\n",
      "Antigo nome registrado: sp. Novo nome registrado: sao paulo\n",
      "Antigo nome registrado: saPSo paulo. Novo nome registrado: sao paulo\n",
      "Antigo nome registrado: guarulhos-sp. Novo nome registrado: guarulhos\n",
      "Antigo nome registrado: jacare (cabreuva). Novo nome registrado: cabreuva\n"
     ]
    }
   ],
   "source": [
    "data_clear.change_city_name(saopaulo, state, 'sao paulo')\n",
    "data_clear.change_city_name(sp, state, 'sao paulo')\n",
    "data_clear.change_city_name(saPSo_paulo, state, 'sao paulo')\n",
    "data_clear.change_city_name(guarulhos_sp, state, 'guarulhos')\n",
    "data_clear.change_city_name(jacare_cabreuva, state, 'cabreuva')"
   ]
  },
  {
   "cell_type": "markdown",
   "metadata": {},
   "source": [
    "- Aplicando a mesma regra para outras cidades"
   ]
  },
  {
   "cell_type": "code",
   "execution_count": 17,
   "metadata": {},
   "outputs": [
    {
     "name": "stdout",
     "output_type": "stream",
     "text": [
      "Total de cidades com o nome itabatan (mucuri): 2\n",
      "Total de cidades com o nome monte gordo (camacari) - distrito: 1\n",
      "Total de cidades com o nome praia grande (fundao) - distrito: 1\n",
      "Total de cidades com o nome antunes (igaratinga): 1\n",
      "Total de cidades com o nome realeza (manhuacu): 1\n",
      "Total de cidades com o nome bacaxa (saquarema) - distrito: 1\n",
      "Total de cidades com o nome california da barra (barra do pirai): 1\n",
      "Total de cidades com o nome penedo (itatiaia): 1\n",
      "Total de cidades com o nome tamoios (cabo frio): 1\n"
     ]
    }
   ],
   "source": [
    "bahia = 'BA'\n",
    "minas_gerais = 'MG'\n",
    "espirito_santo = 'ES'\n",
    "rio_de_janeiro = 'RJ'\n",
    "\n",
    "data_clear.count_city_name('itabatan (mucuri)', bahia)\n",
    "data_clear.count_city_name('monte gordo (camacari) - distrito', bahia)\n",
    "data_clear.count_city_name('praia grande (fundao) - distrito', espirito_santo)\n",
    "data_clear.count_city_name('antunes (igaratinga)', minas_gerais)\n",
    "data_clear.count_city_name('realeza (manhuacu)', minas_gerais)\n",
    "data_clear.count_city_name('bacaxa (saquarema) - distrito',rio_de_janeiro)\n",
    "data_clear.count_city_name('california da barra (barra do pirai)', rio_de_janeiro)\n",
    "data_clear.count_city_name('penedo (itatiaia)', rio_de_janeiro)\n",
    "data_clear.count_city_name('tamoios (cabo frio)', rio_de_janeiro)"
   ]
  },
  {
   "cell_type": "code",
   "execution_count": 18,
   "metadata": {},
   "outputs": [
    {
     "name": "stdout",
     "output_type": "stream",
     "text": [
      "Antigo nome registrado: itabatan (mucuri). Novo nome registrado: mucuri\n",
      "Antigo nome registrado: monte gordo (camacari) - distrito. Novo nome registrado: camacari\n",
      "Antigo nome registrado: praia grande (fundao) - distrito. Novo nome registrado: fundao\n",
      "Antigo nome registrado: antunes (igaratinga). Novo nome registrado: igaratinga\n",
      "Antigo nome registrado: realeza (manhuacu). Novo nome registrado: manhuacu\n",
      "Antigo nome registrado: bacaxa (saquarema) - distrito. Novo nome registrado: saquarema\n",
      "Antigo nome registrado: california da barra (barra do pirai). Novo nome registrado: barra do pirai\n",
      "Antigo nome registrado: penedo (itatiaia). Novo nome registrado: itatiaia\n",
      "Antigo nome registrado: tamoios (cabo frio). Novo nome registrado: cabo frio\n"
     ]
    }
   ],
   "source": [
    "data_clear.change_city_name('itabatan (mucuri)', bahia, 'mucuri')\n",
    "data_clear.change_city_name('monte gordo (camacari) - distrito', bahia, 'camacari')\n",
    "data_clear.change_city_name('praia grande (fundao) - distrito', espirito_santo, 'fundao')\n",
    "data_clear.change_city_name('antunes (igaratinga)', minas_gerais, 'igaratinga')\n",
    "data_clear.change_city_name('realeza (manhuacu)', minas_gerais, 'manhuacu')\n",
    "data_clear.change_city_name('bacaxa (saquarema) - distrito',rio_de_janeiro, 'saquarema')\n",
    "data_clear.change_city_name('california da barra (barra do pirai)', rio_de_janeiro, 'barra do pirai')\n",
    "data_clear.change_city_name('penedo (itatiaia)', rio_de_janeiro, 'itatiaia')\n",
    "data_clear.change_city_name('tamoios (cabo frio)', rio_de_janeiro, 'cabo frio')"
   ]
  },
  {
   "cell_type": "markdown",
   "metadata": {},
   "source": [
    "2. Realizando análise exploratória"
   ]
  },
  {
   "cell_type": "code",
   "execution_count": 19,
   "metadata": {},
   "outputs": [
    {
     "data": {
      "text/plain": [
       "Index(['geolocation_zip_code_prefix', 'geolocation_lat', 'geolocation_lng',\n",
       "       'geolocation_city', 'geolocation_state'],\n",
       "      dtype='object')"
      ]
     },
     "execution_count": 19,
     "metadata": {},
     "output_type": "execute_result"
    }
   ],
   "source": [
    "geolocation.columns"
   ]
  },
  {
   "cell_type": "code",
   "execution_count": 22,
   "metadata": {},
   "outputs": [
    {
     "data": {
      "text/plain": [
       "geolocation_zip_code_prefix\n",
       "24220    1146\n",
       "24230    1102\n",
       "38400     965\n",
       "35500     907\n",
       "11680     879\n",
       "         ... \n",
       "71750       1\n",
       "71742       1\n",
       "26475       1\n",
       "26357       1\n",
       "29826       1\n",
       "Name: count, Length: 19015, dtype: int64"
      ]
     },
     "execution_count": 22,
     "metadata": {},
     "output_type": "execute_result"
    }
   ],
   "source": [
    "geolocation['geolocation_zip_code_prefix'].value_counts()"
   ]
  },
  {
   "cell_type": "code",
   "execution_count": 24,
   "metadata": {},
   "outputs": [
    {
     "data": {
      "text/plain": [
       "geolocation_city\n",
       "sao paulo              160724\n",
       "rio de janeiro          62151\n",
       "belo horizonte          27805\n",
       "curitiba                16593\n",
       "porto alegre            13521\n",
       "                        ...  \n",
       "curumim                     1\n",
       "xangrila                    1\n",
       "algodao de jandaira         1\n",
       "fonseca                     1\n",
       "jacilandia                  1\n",
       "Name: count, Length: 5955, dtype: int64"
      ]
     },
     "execution_count": 24,
     "metadata": {},
     "output_type": "execute_result"
    }
   ],
   "source": [
    "geolocation['geolocation_city'].value_counts()"
   ]
  },
  {
   "cell_type": "code",
   "execution_count": 26,
   "metadata": {},
   "outputs": [
    {
     "data": {
      "text/plain": [
       "geolocation_city\n",
       "sao paulo              16.069781\n",
       "rio de janeiro          6.214087\n",
       "belo horizonte          2.780047\n",
       "curitiba                1.659030\n",
       "porto alegre            1.351880\n",
       "                         ...    \n",
       "curumim                 0.000100\n",
       "xangrila                0.000100\n",
       "algodao de jandaira     0.000100\n",
       "fonseca                 0.000100\n",
       "jacilandia              0.000100\n",
       "Name: count, Length: 5955, dtype: float64"
      ]
     },
     "execution_count": 26,
     "metadata": {},
     "output_type": "execute_result"
    }
   ],
   "source": [
    "(geolocation['geolocation_city'].value_counts() / geolocation.shape[0]) * 100"
   ]
  },
  {
   "cell_type": "code",
   "execution_count": 27,
   "metadata": {},
   "outputs": [
    {
     "data": {
      "text/plain": [
       "geolocation_state\n",
       "SP    404268\n",
       "MG    126336\n",
       "RJ    121169\n",
       "RS     61851\n",
       "PR     57859\n",
       "SC     38328\n",
       "BA     36045\n",
       "GO     20139\n",
       "ES     16748\n",
       "PE     16432\n",
       "DF     12986\n",
       "MT     12031\n",
       "CE     11674\n",
       "PA     10853\n",
       "MS     10431\n",
       "MA      7853\n",
       "PB      5538\n",
       "RN      5041\n",
       "PI      4549\n",
       "AL      4183\n",
       "TO      3576\n",
       "SE      3563\n",
       "RO      3478\n",
       "AM      2432\n",
       "AC      1301\n",
       "AP       853\n",
       "RR       646\n",
       "Name: count, dtype: int64"
      ]
     },
     "execution_count": 27,
     "metadata": {},
     "output_type": "execute_result"
    }
   ],
   "source": [
    "geolocation['geolocation_state'].value_counts()"
   ]
  },
  {
   "cell_type": "code",
   "execution_count": 28,
   "metadata": {},
   "outputs": [
    {
     "data": {
      "text/plain": [
       "geolocation_state\n",
       "SP    40.420212\n",
       "MG    12.631541\n",
       "RJ    12.114925\n",
       "RS     6.184092\n",
       "PR     5.784957\n",
       "SC     3.832175\n",
       "BA     3.603913\n",
       "GO     2.013572\n",
       "ES     1.674527\n",
       "PE     1.642932\n",
       "DF     1.298388\n",
       "MT     1.202904\n",
       "CE     1.167210\n",
       "PA     1.085123\n",
       "MS     1.042930\n",
       "MA     0.785172\n",
       "PB     0.553710\n",
       "RN     0.504018\n",
       "PI     0.454826\n",
       "AL     0.418232\n",
       "TO     0.357542\n",
       "SE     0.356242\n",
       "RO     0.347743\n",
       "AM     0.243160\n",
       "AC     0.130079\n",
       "AP     0.085286\n",
       "RR     0.064589\n",
       "Name: count, dtype: float64"
      ]
     },
     "execution_count": 28,
     "metadata": {},
     "output_type": "execute_result"
    }
   ],
   "source": [
    "(geolocation['geolocation_state'].value_counts() / geolocation.shape[0]) * 100"
   ]
  },
  {
   "cell_type": "code",
   "execution_count": 29,
   "metadata": {},
   "outputs": [],
   "source": [
    "region = {\n",
    "    'SP': 'southeast',\n",
    "    'MG': 'southeast',\n",
    "    'RJ': 'southeast',\n",
    "    'ES': 'southeast',\n",
    "}\n",
    "\n",
    "geolocation['geolocation_region'] = geolocation['geolocation_state'].map(region)"
   ]
  },
  {
   "cell_type": "code",
   "execution_count": 32,
   "metadata": {},
   "outputs": [
    {
     "data": {
      "text/html": [
       "<div>\n",
       "<style scoped>\n",
       "    .dataframe tbody tr th:only-of-type {\n",
       "        vertical-align: middle;\n",
       "    }\n",
       "\n",
       "    .dataframe tbody tr th {\n",
       "        vertical-align: top;\n",
       "    }\n",
       "\n",
       "    .dataframe thead th {\n",
       "        text-align: right;\n",
       "    }\n",
       "</style>\n",
       "<table border=\"1\" class=\"dataframe\">\n",
       "  <thead>\n",
       "    <tr style=\"text-align: right;\">\n",
       "      <th></th>\n",
       "      <th>geolocation_zip_code_prefix</th>\n",
       "      <th>geolocation_lat</th>\n",
       "      <th>geolocation_lng</th>\n",
       "      <th>geolocation_city</th>\n",
       "      <th>geolocation_state</th>\n",
       "      <th>geolocation_region</th>\n",
       "    </tr>\n",
       "  </thead>\n",
       "  <tbody>\n",
       "    <tr>\n",
       "      <th>0</th>\n",
       "      <td>1037</td>\n",
       "      <td>-23.545621</td>\n",
       "      <td>-46.639292</td>\n",
       "      <td>sao paulo</td>\n",
       "      <td>SP</td>\n",
       "      <td>southeast</td>\n",
       "    </tr>\n",
       "    <tr>\n",
       "      <th>1</th>\n",
       "      <td>1046</td>\n",
       "      <td>-23.546081</td>\n",
       "      <td>-46.644820</td>\n",
       "      <td>sao paulo</td>\n",
       "      <td>SP</td>\n",
       "      <td>southeast</td>\n",
       "    </tr>\n",
       "    <tr>\n",
       "      <th>2</th>\n",
       "      <td>1046</td>\n",
       "      <td>-23.546129</td>\n",
       "      <td>-46.642951</td>\n",
       "      <td>sao paulo</td>\n",
       "      <td>SP</td>\n",
       "      <td>southeast</td>\n",
       "    </tr>\n",
       "    <tr>\n",
       "      <th>3</th>\n",
       "      <td>1041</td>\n",
       "      <td>-23.544392</td>\n",
       "      <td>-46.639499</td>\n",
       "      <td>sao paulo</td>\n",
       "      <td>SP</td>\n",
       "      <td>southeast</td>\n",
       "    </tr>\n",
       "    <tr>\n",
       "      <th>4</th>\n",
       "      <td>1035</td>\n",
       "      <td>-23.541578</td>\n",
       "      <td>-46.641607</td>\n",
       "      <td>sao paulo</td>\n",
       "      <td>SP</td>\n",
       "      <td>southeast</td>\n",
       "    </tr>\n",
       "    <tr>\n",
       "      <th>...</th>\n",
       "      <td>...</td>\n",
       "      <td>...</td>\n",
       "      <td>...</td>\n",
       "      <td>...</td>\n",
       "      <td>...</td>\n",
       "      <td>...</td>\n",
       "    </tr>\n",
       "    <tr>\n",
       "      <th>1000158</th>\n",
       "      <td>99950</td>\n",
       "      <td>-28.068639</td>\n",
       "      <td>-52.010705</td>\n",
       "      <td>tapejara</td>\n",
       "      <td>RS</td>\n",
       "      <td>south</td>\n",
       "    </tr>\n",
       "    <tr>\n",
       "      <th>1000159</th>\n",
       "      <td>99900</td>\n",
       "      <td>-27.877125</td>\n",
       "      <td>-52.224882</td>\n",
       "      <td>getulio vargas</td>\n",
       "      <td>RS</td>\n",
       "      <td>south</td>\n",
       "    </tr>\n",
       "    <tr>\n",
       "      <th>1000160</th>\n",
       "      <td>99950</td>\n",
       "      <td>-28.071855</td>\n",
       "      <td>-52.014716</td>\n",
       "      <td>tapejara</td>\n",
       "      <td>RS</td>\n",
       "      <td>south</td>\n",
       "    </tr>\n",
       "    <tr>\n",
       "      <th>1000161</th>\n",
       "      <td>99980</td>\n",
       "      <td>-28.388932</td>\n",
       "      <td>-51.846871</td>\n",
       "      <td>david canabarro</td>\n",
       "      <td>RS</td>\n",
       "      <td>south</td>\n",
       "    </tr>\n",
       "    <tr>\n",
       "      <th>1000162</th>\n",
       "      <td>99950</td>\n",
       "      <td>-28.070104</td>\n",
       "      <td>-52.018658</td>\n",
       "      <td>tapejara</td>\n",
       "      <td>RS</td>\n",
       "      <td>south</td>\n",
       "    </tr>\n",
       "  </tbody>\n",
       "</table>\n",
       "<p>1000163 rows × 6 columns</p>\n",
       "</div>"
      ],
      "text/plain": [
       "         geolocation_zip_code_prefix  geolocation_lat  geolocation_lng  \\\n",
       "0                               1037       -23.545621       -46.639292   \n",
       "1                               1046       -23.546081       -46.644820   \n",
       "2                               1046       -23.546129       -46.642951   \n",
       "3                               1041       -23.544392       -46.639499   \n",
       "4                               1035       -23.541578       -46.641607   \n",
       "...                              ...              ...              ...   \n",
       "1000158                        99950       -28.068639       -52.010705   \n",
       "1000159                        99900       -27.877125       -52.224882   \n",
       "1000160                        99950       -28.071855       -52.014716   \n",
       "1000161                        99980       -28.388932       -51.846871   \n",
       "1000162                        99950       -28.070104       -52.018658   \n",
       "\n",
       "        geolocation_city geolocation_state geolocation_region  \n",
       "0              sao paulo                SP          southeast  \n",
       "1              sao paulo                SP          southeast  \n",
       "2              sao paulo                SP          southeast  \n",
       "3              sao paulo                SP          southeast  \n",
       "4              sao paulo                SP          southeast  \n",
       "...                  ...               ...                ...  \n",
       "1000158         tapejara                RS              south  \n",
       "1000159   getulio vargas                RS              south  \n",
       "1000160         tapejara                RS              south  \n",
       "1000161  david canabarro                RS              south  \n",
       "1000162         tapejara                RS              south  \n",
       "\n",
       "[1000163 rows x 6 columns]"
      ]
     },
     "execution_count": 32,
     "metadata": {},
     "output_type": "execute_result"
    }
   ],
   "source": [
    "geolocation"
   ]
  },
  {
   "cell_type": "code",
   "execution_count": 31,
   "metadata": {},
   "outputs": [],
   "source": [
    "region = {\n",
    "    'RS': 'south',\n",
    "    'SC': 'south',\n",
    "    'PR': 'south',\n",
    "}\n",
    "\n",
    "geolocation['geolocation_region'] = geolocation['geolocation_region'].combine_first(geolocation['geolocation_state'].map(region))\n"
   ]
  },
  {
   "cell_type": "code",
   "execution_count": 33,
   "metadata": {},
   "outputs": [],
   "source": [
    "region = {\n",
    "    'AL': 'northeast',\n",
    "    'BA': 'northeast',\n",
    "    'CE': 'northeast',\n",
    "    'MA': 'northeast',\n",
    "    'PB': 'northeast',\n",
    "    'PE': 'northeast',\n",
    "    'PI': 'northeast',\n",
    "    'RN': 'northeast',\n",
    "    'SE': 'northeast',\n",
    "}\n",
    "\n",
    "geolocation['geolocation_region'] = geolocation['geolocation_region'].combine_first(geolocation['geolocation_state'].map(region))\n"
   ]
  },
  {
   "cell_type": "code",
   "execution_count": 34,
   "metadata": {},
   "outputs": [],
   "source": [
    "region = {\n",
    "    'AC': 'north',\n",
    "    'AM': 'north',\n",
    "    'AP': 'north',\n",
    "    'PA': 'north',\n",
    "    'RO': 'north',\n",
    "    'RR': 'north',\n",
    "    'TO': 'north',\n",
    "}\n",
    "\n",
    "geolocation['geolocation_region'] = geolocation['geolocation_region'].combine_first(geolocation['geolocation_state'].map(region))"
   ]
  },
  {
   "cell_type": "code",
   "execution_count": 35,
   "metadata": {},
   "outputs": [],
   "source": [
    "region = {\n",
    "    'DF': 'central-west',\n",
    "    'GO': 'central-west',\n",
    "    'MS': 'central-west',\n",
    "    'MT': 'central-west',\n",
    "}\n",
    "\n",
    "geolocation['geolocation_region'] = geolocation['geolocation_region'].combine_first(geolocation['geolocation_state'].map(region))"
   ]
  },
  {
   "cell_type": "code",
   "execution_count": 36,
   "metadata": {},
   "outputs": [
    {
     "data": {
      "text/html": [
       "<div>\n",
       "<style scoped>\n",
       "    .dataframe tbody tr th:only-of-type {\n",
       "        vertical-align: middle;\n",
       "    }\n",
       "\n",
       "    .dataframe tbody tr th {\n",
       "        vertical-align: top;\n",
       "    }\n",
       "\n",
       "    .dataframe thead th {\n",
       "        text-align: right;\n",
       "    }\n",
       "</style>\n",
       "<table border=\"1\" class=\"dataframe\">\n",
       "  <thead>\n",
       "    <tr style=\"text-align: right;\">\n",
       "      <th></th>\n",
       "      <th>geolocation_zip_code_prefix</th>\n",
       "      <th>geolocation_lat</th>\n",
       "      <th>geolocation_lng</th>\n",
       "      <th>geolocation_city</th>\n",
       "      <th>geolocation_state</th>\n",
       "      <th>geolocation_region</th>\n",
       "    </tr>\n",
       "  </thead>\n",
       "  <tbody>\n",
       "    <tr>\n",
       "      <th>0</th>\n",
       "      <td>1037</td>\n",
       "      <td>-23.545621</td>\n",
       "      <td>-46.639292</td>\n",
       "      <td>sao paulo</td>\n",
       "      <td>SP</td>\n",
       "      <td>southeast</td>\n",
       "    </tr>\n",
       "    <tr>\n",
       "      <th>1</th>\n",
       "      <td>1046</td>\n",
       "      <td>-23.546081</td>\n",
       "      <td>-46.644820</td>\n",
       "      <td>sao paulo</td>\n",
       "      <td>SP</td>\n",
       "      <td>southeast</td>\n",
       "    </tr>\n",
       "    <tr>\n",
       "      <th>2</th>\n",
       "      <td>1046</td>\n",
       "      <td>-23.546129</td>\n",
       "      <td>-46.642951</td>\n",
       "      <td>sao paulo</td>\n",
       "      <td>SP</td>\n",
       "      <td>southeast</td>\n",
       "    </tr>\n",
       "    <tr>\n",
       "      <th>3</th>\n",
       "      <td>1041</td>\n",
       "      <td>-23.544392</td>\n",
       "      <td>-46.639499</td>\n",
       "      <td>sao paulo</td>\n",
       "      <td>SP</td>\n",
       "      <td>southeast</td>\n",
       "    </tr>\n",
       "    <tr>\n",
       "      <th>4</th>\n",
       "      <td>1035</td>\n",
       "      <td>-23.541578</td>\n",
       "      <td>-46.641607</td>\n",
       "      <td>sao paulo</td>\n",
       "      <td>SP</td>\n",
       "      <td>southeast</td>\n",
       "    </tr>\n",
       "    <tr>\n",
       "      <th>...</th>\n",
       "      <td>...</td>\n",
       "      <td>...</td>\n",
       "      <td>...</td>\n",
       "      <td>...</td>\n",
       "      <td>...</td>\n",
       "      <td>...</td>\n",
       "    </tr>\n",
       "    <tr>\n",
       "      <th>1000158</th>\n",
       "      <td>99950</td>\n",
       "      <td>-28.068639</td>\n",
       "      <td>-52.010705</td>\n",
       "      <td>tapejara</td>\n",
       "      <td>RS</td>\n",
       "      <td>south</td>\n",
       "    </tr>\n",
       "    <tr>\n",
       "      <th>1000159</th>\n",
       "      <td>99900</td>\n",
       "      <td>-27.877125</td>\n",
       "      <td>-52.224882</td>\n",
       "      <td>getulio vargas</td>\n",
       "      <td>RS</td>\n",
       "      <td>south</td>\n",
       "    </tr>\n",
       "    <tr>\n",
       "      <th>1000160</th>\n",
       "      <td>99950</td>\n",
       "      <td>-28.071855</td>\n",
       "      <td>-52.014716</td>\n",
       "      <td>tapejara</td>\n",
       "      <td>RS</td>\n",
       "      <td>south</td>\n",
       "    </tr>\n",
       "    <tr>\n",
       "      <th>1000161</th>\n",
       "      <td>99980</td>\n",
       "      <td>-28.388932</td>\n",
       "      <td>-51.846871</td>\n",
       "      <td>david canabarro</td>\n",
       "      <td>RS</td>\n",
       "      <td>south</td>\n",
       "    </tr>\n",
       "    <tr>\n",
       "      <th>1000162</th>\n",
       "      <td>99950</td>\n",
       "      <td>-28.070104</td>\n",
       "      <td>-52.018658</td>\n",
       "      <td>tapejara</td>\n",
       "      <td>RS</td>\n",
       "      <td>south</td>\n",
       "    </tr>\n",
       "  </tbody>\n",
       "</table>\n",
       "<p>1000163 rows × 6 columns</p>\n",
       "</div>"
      ],
      "text/plain": [
       "         geolocation_zip_code_prefix  geolocation_lat  geolocation_lng  \\\n",
       "0                               1037       -23.545621       -46.639292   \n",
       "1                               1046       -23.546081       -46.644820   \n",
       "2                               1046       -23.546129       -46.642951   \n",
       "3                               1041       -23.544392       -46.639499   \n",
       "4                               1035       -23.541578       -46.641607   \n",
       "...                              ...              ...              ...   \n",
       "1000158                        99950       -28.068639       -52.010705   \n",
       "1000159                        99900       -27.877125       -52.224882   \n",
       "1000160                        99950       -28.071855       -52.014716   \n",
       "1000161                        99980       -28.388932       -51.846871   \n",
       "1000162                        99950       -28.070104       -52.018658   \n",
       "\n",
       "        geolocation_city geolocation_state geolocation_region  \n",
       "0              sao paulo                SP          southeast  \n",
       "1              sao paulo                SP          southeast  \n",
       "2              sao paulo                SP          southeast  \n",
       "3              sao paulo                SP          southeast  \n",
       "4              sao paulo                SP          southeast  \n",
       "...                  ...               ...                ...  \n",
       "1000158         tapejara                RS              south  \n",
       "1000159   getulio vargas                RS              south  \n",
       "1000160         tapejara                RS              south  \n",
       "1000161  david canabarro                RS              south  \n",
       "1000162         tapejara                RS              south  \n",
       "\n",
       "[1000163 rows x 6 columns]"
      ]
     },
     "execution_count": 36,
     "metadata": {},
     "output_type": "execute_result"
    }
   ],
   "source": [
    "geolocation"
   ]
  },
  {
   "cell_type": "code",
   "execution_count": 37,
   "metadata": {},
   "outputs": [
    {
     "data": {
      "text/plain": [
       "geolocation_region\n",
       "southeast       668521\n",
       "south           158038\n",
       "northeast        94878\n",
       "central-west     55587\n",
       "north            23139\n",
       "Name: count, dtype: int64"
      ]
     },
     "execution_count": 37,
     "metadata": {},
     "output_type": "execute_result"
    }
   ],
   "source": [
    "geolocation['geolocation_region'].value_counts()"
   ]
  },
  {
   "cell_type": "code",
   "execution_count": 38,
   "metadata": {},
   "outputs": [
    {
     "data": {
      "text/plain": [
       "geolocation_region\n",
       "southeast       66.841205\n",
       "south           15.801224\n",
       "northeast        9.486254\n",
       "central-west     5.557794\n",
       "north            2.313523\n",
       "Name: count, dtype: float64"
      ]
     },
     "execution_count": 38,
     "metadata": {},
     "output_type": "execute_result"
    }
   ],
   "source": [
    "(geolocation['geolocation_region'].value_counts() / geolocation.shape[0]) * 100"
   ]
  },
  {
   "cell_type": "code",
   "execution_count": 39,
   "metadata": {},
   "outputs": [
    {
     "data": {
      "text/plain": [
       "geolocation_zip_code_prefix      int64\n",
       "geolocation_lat                float64\n",
       "geolocation_lng                float64\n",
       "geolocation_city                object\n",
       "geolocation_state               object\n",
       "geolocation_region              object\n",
       "dtype: object"
      ]
     },
     "execution_count": 39,
     "metadata": {},
     "output_type": "execute_result"
    }
   ],
   "source": [
    "geolocation.dtypes"
   ]
  },
  {
   "cell_type": "markdown",
   "metadata": {},
   "source": [
    "3. Exportando o DataFrame para um novo arquivo csv"
   ]
  },
  {
   "cell_type": "code",
   "execution_count": 40,
   "metadata": {},
   "outputs": [],
   "source": [
    "import os"
   ]
  },
  {
   "cell_type": "code",
   "execution_count": 41,
   "metadata": {},
   "outputs": [
    {
     "name": "stdout",
     "output_type": "stream",
     "text": [
      "DataFrame salvo em ../data/clean_data/geolocation_dataset.csv\n"
     ]
    }
   ],
   "source": [
    "data_directory = '../data/'\n",
    "\n",
    "clean_data_directory = os.path.join(data_directory, 'clean_data')\n",
    "\n",
    "os.makedirs(clean_data_directory, exist_ok=True)\n",
    "\n",
    "csv_path = os.path.join(clean_data_directory, 'geolocation_dataset.csv')\n",
    "\n",
    "geolocation.to_csv(csv_path, index=False)\n",
    "\n",
    "print(f'DataFrame salvo em {csv_path}')"
   ]
  }
 ],
 "metadata": {
  "kernelspec": {
   "display_name": "Python 3",
   "language": "python",
   "name": "python3"
  },
  "language_info": {
   "codemirror_mode": {
    "name": "ipython",
    "version": 3
   },
   "file_extension": ".py",
   "mimetype": "text/x-python",
   "name": "python",
   "nbconvert_exporter": "python",
   "pygments_lexer": "ipython3",
   "version": "3.10.12"
  }
 },
 "nbformat": 4,
 "nbformat_minor": 2
}
